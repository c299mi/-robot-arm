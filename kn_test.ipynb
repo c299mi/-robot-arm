{
 "cells": [
  {
   "cell_type": "code",
   "execution_count": 1,
   "id": "01b9ab72-e926-4483-bce1-844f074247c9",
   "metadata": {
    "tags": []
   },
   "outputs": [],
   "source": [
    "import numpy as np\n",
    "import matplotlib.pyplot as plt"
   ]
  },
  {
   "cell_type": "code",
   "execution_count": 2,
   "id": "c71953b9-df84-486a-bb5b-c97a18f218ff",
   "metadata": {
    "tags": []
   },
   "outputs": [],
   "source": [
    "def trans_m(a, alpha, d, theta):\n",
    "    m = np.array([[np.cos(theta), -np.sin(theta), 0, a],\n",
    "                  [np.cos(alpha)*np.sin(theta), np.cos(alpha)*np.cos(theta), -np.sin(alpha), -np.sin(alpha)*d],\n",
    "                  [np.sin(alpha)*np.sin(theta), np.sin(alpha)*np.cos(theta),  np.cos(alpha),  np.cos(alpha)*d],\n",
    "                  [0, 0, 0, 1]])\n",
    "    return m"
   ]
  },
  {
   "cell_type": "code",
   "execution_count": 3,
   "id": "0bc9b898-3f77-436a-9100-660f78c9ab35",
   "metadata": {
    "tags": []
   },
   "outputs": [],
   "source": [
    "# 関節角の指定\n",
    "theta = np.array([[np.pi/6],\n",
    "                  [np.pi/2]])\n",
    "\n",
    "# DHパラメータより同次変換行列を求める\n",
    "tm0_1 = trans_m(0, 0, 0, theta[0,0])\n",
    "tm1_2 = trans_m(1, 0, 0, theta[1,0])\n",
    "tm2_3 = trans_m(1, 0, 0, 0)\n",
    "\n",
    "# 基準座標系から見た各座標系の位置姿勢を計算\n",
    "r = [tm0_1[0:2,3:4],\n",
    "     tm0_1.dot(tm1_2)[0:2,3:4],\n",
    "     tm0_1.dot(tm1_2).dot(tm2_3)[0:2,3:4]]"
   ]
  },
  {
   "cell_type": "code",
   "execution_count": 4,
   "id": "0ba43b26-778f-4fc3-a43a-2fe9678a6774",
   "metadata": {
    "tags": []
   },
   "outputs": [],
   "source": [
    "# マニピュレータの描画\n",
    "def draw(r):\n",
    "    xs = [e[0] for e in r]\n",
    "    ys = [e[1] for e in r]\n",
    "    \n",
    "    fig = plt.figure(figsize=(5,5))\n",
    "    sp = fig.add_subplot(111,aspect='equal')\n",
    "    sp.set_xlim(-2,2)\n",
    "    sp.set_ylim(-2,2)\n",
    "    plt.plot(xs, ys, \"-\", color=\"skyblue\", lw=5, label=\"link\")\n",
    "    plt.plot(xs, ys, \"o\", color=\"orange\", ms=10, label=\"joint\")\n",
    "    plt.grid()\n",
    "    plt.legend(fontsize=10)\n",
    "    plt.show()"
   ]
  },
  {
   "cell_type": "code",
   "execution_count": 5,
   "id": "a7a2e1fe-7dd7-4a09-af40-f860e0d2f452",
   "metadata": {
    "tags": []
   },
   "outputs": [
    {
     "data": {
      "image/png": "[encoded data removed]",
      "text/plain": [
       "<Figure size 500x500 with 1 Axes>"
      ]
     },
     "metadata": {},
     "output_type": "display_data"
    },
    {
     "name": "stdout",
     "output_type": "stream",
     "text": [
      "r: [[0.3660254 1.3660254]]\n"
     ]
    }
   ],
   "source": [
    "draw(r)\n",
    "print(\"r: \"+str(r[2].T))"
   ]
  },
  {
   "cell_type": "code",
   "execution_count": null,
   "id": "0c505f6e-ff83-46b9-83af-947d7c1a4fef",
   "metadata": {},
   "outputs": [],
   "source": []
  },
  {
   "cell_type": "code",
   "execution_count": null,
   "id": "9f09c76a-46e9-4e20-aa2f-3fd3db9caa8b",
   "metadata": {},
   "outputs": [],
   "source": []
  }
 ],
 "metadata": {
  "kernelspec": {
   "display_name": "Python 3 (ipykernel)",
   "language": "python",
   "name": "python3"
  },
  "language_info": {
   "codemirror_mode": {
    "name": "ipython",
    "version": 3
   },
   "file_extension": ".py",
   "mimetype": "text/x-python",
   "name": "python",
   "nbconvert_exporter": "python",
   "pygments_lexer": "ipython3",
   "version": "3.10.6"
  }
 },
 "nbformat": 4,
 "nbformat_minor": 5
}
