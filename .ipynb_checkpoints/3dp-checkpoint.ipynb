{
 "cells": [
  {
   "cell_type": "code",
   "execution_count": 1,
   "id": "ed327072-5603-499e-9509-0d982900a7df",
   "metadata": {
    "tags": []
   },
   "outputs": [],
   "source": [
    "import matplotlib.pyplot as plt\n",
    "from mpl_toolkits.mplot3d import Axes3D\n",
    "import numpy as np\n",
    "import math\n",
    "\n",
    "\n",
    "# Constants\n",
    "L0 = 10.0  # Length of the base link (cm)\n",
    "L1 = 10.5  # Length of the first link (cm)\n",
    "L2 = 15.0  # Length of the second link (cm)\n",
    "OFFSET_Y = 10.0\n",
    "\n",
    "def computeIK_with_offset(x, y, theta0_deg):\n",
    "    # Adjust x, y based on theta0\n",
    "    theta0_rad = np.radians(theta0_deg)\n",
    "    x_rotated = x * np.cos(theta0_rad) - y * np.sin(theta0_rad)\n",
    "    y_rotated = x * np.sin(theta0_rad) + y * np.cos(theta0_rad)\n",
    "\n",
    "    y_rotated = y_rotated - OFFSET_Y\n",
    "    d = math.sqrt(x_rotated**2 + y_rotated**2)\n",
    "\n",
    "    cos_theta2 = (d**2 - L1**2 - L2**2) / (2 * L1 * L2)\n",
    "    theta2_rad1 = math.acos(cos_theta2)\n",
    "    theta2_rad2 = -math.acos(cos_theta2)\n",
    "\n",
    "    alpha = math.atan2(y_rotated, x_rotated)\n",
    "    beta1 = math.asin(L2 * math.sin(theta2_rad1) / d)\n",
    "    theta1_rad1 = alpha - beta1\n",
    "    beta2 = math.asin(L2 * math.sin(theta2_rad2) / d)\n",
    "    theta1_rad2 = alpha - beta2\n",
    "\n",
    "    theta1_deg1 = math.degrees(theta1_rad1) + 180\n",
    "    theta2_deg1 = math.degrees(theta2_rad1) + 180\n",
    "\n",
    "    theta1_deg2 = math.degrees(theta1_rad2) + 180\n",
    "    theta2_deg2 = math.degrees(theta2_rad2) + 180\n",
    "\n",
    "    return (theta1_deg1, theta2_deg1), (theta1_deg2, theta2_deg2)\n"
   ]
  },
  {
   "cell_type": "code",
   "execution_count": 7,
   "id": "6960ad6c-18a0-4133-bfdd-6b6582e55af5",
   "metadata": {
    "tags": []
   },
   "outputs": [
    {
     "ename": "SyntaxError",
     "evalue": "invalid decimal literal (162286772.py, line 41)",
     "output_type": "error",
     "traceback": [
      "\u001b[0;36m  Cell \u001b[0;32mIn[7], line 41\u001b[0;36m\u001b[0m\n\u001b[0;31m    y_sample = 1\u001b[0m\n\u001b[0m               ^\u001b[0m\n\u001b[0;31mSyntaxError\u001b[0m\u001b[0;31m:\u001b[0m invalid decimal literal\n"
     ]
    }
   ],
   "source": [
    "\n",
    "def plot_robot_arm_with_offset_3D(x, y, z, theta0_deg):\n",
    "    _, (theta1_deg, theta2_deg) = computeIK_with_offset(x, y, theta0_deg)\n",
    "\n",
    "    theta0_rad = np.radians(theta0_deg)\n",
    "    theta1_rad = np.radians(theta1_deg - 180)\n",
    "    theta2_rad = np.radians(theta2_deg - 180)\n",
    "\n",
    "    # Calculate positions\n",
    "    x0 = 0\n",
    "    y0 = 0\n",
    "    z0 = L0\n",
    "    x1 = x0 + L1 * np.cos(theta0_rad + theta1_rad)\n",
    "    y1 = y0 + L1 * np.sin(theta0_rad + theta1_rad)\n",
    "    z1 = z0\n",
    "    x2 = x1 + L2 * np.cos(theta0_rad + theta1_rad + theta2_rad)\n",
    "    y2 = y1 + L2 * np.sin(theta0_rad + theta1_rad + theta2_rad)\n",
    "    z2 = z1\n",
    "\n",
    "    fig = plt.figure(figsize=(10, 10))\n",
    "    ax = fig.add_subplot(111, projection='3d')\n",
    "\n",
    "    # Plot links and points\n",
    "    ax.plot([x0, x1], [y0, y1], [z0, z1], 'o-', color='blue', markersize=10, label='Link 1')\n",
    "    ax.plot([x1, x2], [y1, y2], [z1, z2], 'o-', color='green', markersize=10, label='Link 2')\n",
    "    ax.scatter(x, y, z, color='purple', s=100, marker='x', label='Target')\n",
    "\n",
    "    ax.set_xlim3d(-L0 - L1 - L2, L0 + L1 + L2)\n",
    "    ax.set_ylim3d(-L0 - L1 - L2, L0 + L1 + L2)\n",
    "    ax.set_zlim3d(0, L0 + L1 + L2)\n",
    "    ax.set_xlabel(\"X\")\n",
    "    ax.set_ylabel(\"Y\")\n",
    "    ax.set_zlabel(\"Z\")\n",
    "    ax.set_title(f\"Robot Arm Position for Target ({x}, {y}, {z}) with Offset\")\n",
    "    ax.legend()\n",
    "\n",
    "    plt.show()\n",
    "\n",
    "# Test with a sample rotation angle for link 0\n",
    "theta0_sample_deg = 90\n",
    "x_sample = 15\n",
    "y_sample = 10\n",
    "z_sample = L0\n",
    "\n",
    "plot_robot_arm_with_offset_3D(x_sample, y_sample, z_sample, theta0_sample_deg)"
   ]
  },
  {
   "cell_type": "code",
   "execution_count": 5,
   "id": "d42b27e9-bacd-4528-ab54-97437ac3bda2",
   "metadata": {
    "tags": []
   },
   "outputs": [
    {
     "name": "stdout",
     "output_type": "stream",
     "text": [
      "Theta1: (90.04548488188414, 271.8647156447645)°, Theta2: (202.5743800661563, 88.1352843552355)°\n"
     ]
    }
   ],
   "source": [
    "x_sample = 15\n",
    "y_sample = 0\n",
    "theta1_deg, theta2_deg = computeIK_with_offset(x_sample, y_sample)\n",
    "print(f\"Theta1: {theta1_deg}°, Theta2: {theta2_deg}°\")"
   ]
  },
  {
   "cell_type": "code",
   "execution_count": null,
   "id": "2d9c622b-4309-4c7b-8f03-a5bcfb6ba6ba",
   "metadata": {},
   "outputs": [],
   "source": []
  }
 ],
 "metadata": {
  "kernelspec": {
   "display_name": "Python 3 (ipykernel)",
   "language": "python",
   "name": "python3"
  },
  "language_info": {
   "codemirror_mode": {
    "name": "ipython",
    "version": 3
   },
   "file_extension": ".py",
   "mimetype": "text/x-python",
   "name": "python",
   "nbconvert_exporter": "python",
   "pygments_lexer": "ipython3",
   "version": "3.10.6"
  }
 },
 "nbformat": 4,
 "nbformat_minor": 5
}
